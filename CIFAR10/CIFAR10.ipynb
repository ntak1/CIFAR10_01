{
 "cells": [
  {
   "cell_type": "markdown",
   "metadata": {},
   "source": [
    "# Introduction to Convolutional Neural Networks with Keras \n",
    "\n",
    "### The data set used: CIFAR10\n",
    "[CIFAR10](https://www.cs.toronto.edu/~kriz/cifar.html) is a data set with 60000 labeled images. 10000 are reserved to test."
   ]
  },
  {
   "cell_type": "code",
   "execution_count": 1,
   "metadata": {
    "scrolled": true
   },
   "outputs": [
    {
     "name": "stderr",
     "output_type": "stream",
     "text": [
      "Using TensorFlow backend.\n"
     ]
    }
   ],
   "source": [
    "import numpy as np\n",
    "import matplotlib.pyplot as plt\n",
    "from keras.models import Sequential\n",
    "from keras.layers import Input, Dense, MaxPooling2D, Flatten, Conv2D, ZeroPadding2D, BatchNormalization, Activation\n",
    "from keras.datasets import cifar10\n",
    "from keras import optimizers, losses\n",
    "from keras.models import Model\n",
    "import keras.utils\n",
    "from keras.utils import to_categorical\n",
    "from keras import utils as np_utils\n",
    "from keras.models import model_from_json\n",
    "import time\n",
    "%matplotlib inline"
   ]
  },
  {
   "cell_type": "code",
   "execution_count": 2,
   "metadata": {},
   "outputs": [],
   "source": [
    "#load the data, we won't use now the test set\n",
    "(x_train, y_train), ( x_test , y_test) = cifar10.load_data() #the _ indicates we don't want that value"
   ]
  },
  {
   "cell_type": "markdown",
   "metadata": {},
   "source": [
    "## Understanding the data_set\n",
    "The training set has 50000 images RGB each of shape 32x32x3 (x_train) and 5000 labels (y_train). \n",
    "The test set has 1000 images with the same especifications.\n",
    "0. airplane \t\t\t\t\t\t\t\t\t\t\n",
    "1. automobile \t\t\t\t\t\t\t\t\t\t\n",
    "2. bird \t\t\t\t\t\t\t\t\t\t\n",
    "3. cat \t\t\t\t\t\t\t\t\t\t\n",
    "4. deer \t\t\t\t\t\t\t\t\t\t\n",
    "5. dog \t\t\t\t\t\t\t\t\t\t\n",
    "6. frog \t\t\t\t\t\t\t\t\t\t\n",
    "7. horse \t\t\t\t\t\t\t\t\t\t\n",
    "8. ship \t\t\t\t\t\t\t\t\t\t\n",
    "9. truck \t\t\t\t\t\t\t\t\t\t\n",
    " "
   ]
  },
  {
   "cell_type": "code",
   "execution_count": 3,
   "metadata": {},
   "outputs": [],
   "source": [
    "#Dividing the training set into test set and validation set\n",
    "x_validation = x_train[45000:50000]\n",
    "y_validation = y_train[45000: 50000]\n",
    "x_train = x_train[0:45000]\n",
    "y_train = y_train[0: 45000]"
   ]
  },
  {
   "cell_type": "code",
   "execution_count": null,
   "metadata": {},
   "outputs": [],
   "source": [
    "#Extracting sizes\n",
    "m = x_train.shape[0]\n",
    "width =  x_train.shape[2] #the width is the number of columns\n",
    "height = x_train.shape[1] #the height is the number of lines\n",
    "n_C = x_train.shape[3]\n",
    "\n",
    "#View the data\n",
    "classes = [\"airplane\", \"automobile\", \"bird\", \"cat\", \"deer\", \"dog\", \"frog\", \"horse\", \"ship\", \"truck\"]\n",
    "index = np.random.randint(m)\n",
    "img = x_train[index]\n",
    "print(\"label: \", y_train[index], classes[int(y_train[index])])\n",
    "imgplot = plt.imshow(img)\n",
    "\n",
    "plt.figure(figsize=(32,32))\n",
    "print (\"x_train.shape = \", x_train.shape)\n",
    "print(\"y_train.shape = \", y_train.shape)\n",
    "print(\"x_validation.shape = \", x_validation.shape)\n",
    "print(\"y_validation.shape = \", y_validation.shape)\n",
    "print(\"x_test.shape = \", x_test.shape)\n",
    "print(\"y_test.shape = \", y_test.shape)\n",
    "print(\"number of classes: \", np.max(y_train) + 1)"
   ]
  },
  {
   "cell_type": "markdown",
   "metadata": {},
   "source": [
    "## Keras Layers\n",
    "[Conv2D](https://keras.io/layers/convolutional/)  \n",
    "[MaxPooling2D](https://keas.io/layers/pooling/)\n",
    "[Add](https://keras.io/layers/merge/): example of merging layers. Usefull to implement ResNet's. \n",
    "\n",
    "## first_model:\n",
    "input => 16 filters of 3x3 stride 1, no padding => 1 POOL layer 2x2 stride 2 => 8 filters 5x5x16 stride 2 = Flatten =>FC 20 nodes => softmax() with 10 outputs. \n",
    "This model is simple, it's actually too small. That means it's hard to train. It has approximately 20000 parameters.\n",
    "\n",
    "## happy_house:\n",
    "A model based on a Deeplearning.ai tutorial.\n",
    "\n",
    "## super_cool_model:\n",
    "Implements the following architecture:  \n",
    "CONV2D =>BN => RELU => CONV2D => MAXPOOLING => BN => RELU => CON2D => BN => FC =>SOFTMAX\n"
   ]
  },
  {
   "cell_type": "code",
   "execution_count": 5,
   "metadata": {},
   "outputs": [],
   "source": [
    "def first_model(): \n",
    "    model = Sequential()\n",
    "    #layer 1\n",
    "    initializer = keras.initializers.he_normal(1)\n",
    "    model.add(Conv2D(16, 3, strides = 1, input_shape = x_train[0].shape,\n",
    "                     padding = 'valid', activation = 'relu', kernel_initializer = initializer))\n",
    "    #layer 2\n",
    "    model.add(MaxPooling2D(pool_size=(4, 4), strides=(2, 2)))\n",
    "    #layer 3\n",
    "    model.add(Conv2D(32, (5, 5), activation='relu', kernel_initializer = initializer))\n",
    "    model.add(Flatten())\n",
    "    #layer 4\n",
    "    model.add(Dense(30, activation='relu'))\n",
    "    model.add(Dense(num_classes, activation='softmax'))\n",
    "    return model"
   ]
  },
  {
   "cell_type": "code",
   "execution_count": 6,
   "metadata": {},
   "outputs": [],
   "source": [
    "#PAD (3,3) -> CONV2D (7X7,32) -> BN -> RELU -> MAXPOOL (2,2) ->FLATTEN\n",
    "#->SIGMOID\n",
    "def HappyModel(input_shape):\n",
    "    \"\"\"\n",
    "    Implementation of the HappyModel.\n",
    "    \n",
    "    Arguments:\n",
    "    input_shape -- shape of the images of the dataset\n",
    "\n",
    "    Returns:\n",
    "    model -- a Model() instance in Keras\n",
    "    \"\"\"\n",
    "    X_input = Input(input_shape)\n",
    "    #Zero-padding: pads the border of X_input with zeros\n",
    "    X = ZeroPadding2D((3,3))(X_input)\n",
    "    #CONV2D: uses 32 filters 7x7\n",
    "    X = Conv2D(32,(7,7), strides = (1,1), name = 'conv0')(X)\n",
    "    #BN\n",
    "    X = BatchNormalization(axis = 3, name = 'bn0')(X)\n",
    "    #RELU\n",
    "    X = Activation('relu')(X)\n",
    "    #MAXPOOL\n",
    "    X = MaxPooling2D((2,2), name = 'max_pool')(X)\n",
    "    \n",
    "    #FLATTEN X (CONVERT TO VECTOR) -> fully connected layer\n",
    "    X = Flatten()(X)\n",
    "    X = Dense(10, activation='softmax', name ='fc')(X)\n",
    "    \n",
    "    #creates the model\n",
    "    model = Model(inputs = X_input, outputs = X, name = 'HappyModel')\n",
    "    ### END CODE HERE ###\n",
    "    \n",
    "    return model"
   ]
  },
  {
   "cell_type": "code",
   "execution_count": 15,
   "metadata": {},
   "outputs": [],
   "source": [
    "def super_cool_model (input_shape):\n",
    "    \"\"\"\n",
    "    Arguments: input_shape a tuple with the input shape\n",
    "    Returns: a model (intance of Model in Keras) with a super cool architecture\n",
    "    CONV2D =>BN => RELU => CONV2D => MAXPOOLING => BN => RELU => CON2D => BN => FC =>SOFTMAX\n",
    "    \"\"\"\n",
    "    \n",
    "    X_input = Input(input_shape)\n",
    "    \n",
    "    # if the iput shape is (32,32,3), is layer will have 4705 parameters (including bias)\n",
    "    X = Conv2D(32, (7,7), strides = (1,1), padding = 'same', name = 'conv0', use_bias = True)(X_input)\n",
    "    X = BatchNormalization(axis = 3, name = 'bn0')(X)  # no parameters\n",
    "    X = Activation('relu')(X)                       # no parameters\n",
    "    \n",
    "    # after the fisrt conv layer the volume is shape (32,32,32)\n",
    "    # here we have more 51201 parameters including the bias\n",
    "    X = Conv2D(64, (5,5), strides = (1,1), padding = 'same', name = 'conv1', use_bias = True)(X)\n",
    "    \n",
    "    # here the volume is shape (32, 32, 64)\n",
    "    X = MaxPooling2D((2,2), strides = (2,2), name = 'max_pool')(X)\n",
    "    \n",
    "    # after the max pooling the volume is shape (16,16, 64)\n",
    "    X = BatchNormalization(axis = 3, name = 'bn1')(X)\n",
    "    X = Activation('relu')(X)\n",
    "    \n",
    "    # use some filters (1,1) to reduce the number of channels\n",
    "    # there are 32x64 = 2048 parameters\n",
    "    # note that the padding must be valid to actually reduce the depth\n",
    "    #HERE WE WONT CUT THE NC, DELETE THIS LAYER.\n",
    "    X = Conv2D(16,kernel_size = (1,1), strides = (1,1), padding = 'valid', use_bias = True) (X)\n",
    "    \n",
    "    # the shape here is (16, 16, 16)  = 4096 units\n",
    "    X = BatchNormalization(axis = 3, name = 'bn2')(X)\n",
    "    X = Flatten()(X)\n",
    "    X = Dense(10, activation='softmax', name ='fc')(X)\n",
    "    \n",
    "    #creates the model\n",
    "    model = Model(inputs = X_input, outputs = X, name = 'super_cool_model')\n",
    "    return model\n",
    "    \n",
    "    \n",
    "    \n",
    "    "
   ]
  },
  {
   "cell_type": "markdown",
   "metadata": {},
   "source": [
    "# Idea: eliminate FC layers, using instead ConvLayers.\n",
    "We want to transform a (16, 16, 64) into something with shape 10\n",
    "Idea: apply 10 filters shape(16, 16, 64)"
   ]
  },
  {
   "cell_type": "markdown",
   "metadata": {},
   "source": [
    "## Compiling\n",
    "**Optimizers Overview:** [see](http://ruder.io/optimizing-gradient-descent).  \n",
    "Used Adam optimizer. Too see other [possibilities](https://keras.io/optimizers/).  \n",
    "**Momentum:** momentum takes advantage of the \"exponentialy weighted average technique, it makes SGD or minibatch compute something that is near to the true derivatives. See [momentum](https://towardsdatascience.com/stochastic-gradient-descent-with-momentum-a84097641a5d).  \n",
    "**RMSProp:** (root mean squared): adjusts the learnng rate by dividing it by the exponentially weighted average.  \n",
    "**Adam Optimizer:** it combines the idea of momentum and RMS propagation."
   ]
  },
  {
   "cell_type": "code",
   "execution_count": 16,
   "metadata": {},
   "outputs": [],
   "source": [
    "#CHOOSE HERE THE MODEL YOU WANT TO TEST\n",
    "lr = 0.00001\n",
    "model = super_cool_model((32,32,3))\n",
    "optimizer = keras.optimizers.Nadam(lr=lr, beta_1=0.9, beta_2=0.999, epsilon=None, schedule_decay=0.004)\n",
    "model.compile(loss=keras.losses.categorical_crossentropy,\n",
    "              optimizer= optimizer,\n",
    "              metrics=['accuracy'])\n"
   ]
  },
  {
   "cell_type": "markdown",
   "metadata": {},
   "source": [
    "## Use one hot enconding\n",
    "Why use one hor enconding?\n",
    "The categorical varibles representation become more expressive.  \n",
    "See the refference to implementations in some frameworks.\n",
    "https://machinelearningmastery.com/how-to-one-hot-encode-sequence-data-in-python/\n",
    "\n",
    "## Traning model:"
   ]
  },
  {
   "cell_type": "code",
   "execution_count": 23,
   "metadata": {},
   "outputs": [
    {
     "name": "stdout",
     "output_type": "stream",
     "text": [
      "Train on 45000 samples, validate on 5000 samples\n",
      "Epoch 1/3\n",
      "45000/45000 [==============================] - 682s 15ms/step - loss: 1.0798 - acc: 0.6201 - val_loss: 1.1658 - val_acc: 0.5914\n",
      "Epoch 2/3\n",
      "45000/45000 [==============================] - 635s 14ms/step - loss: 1.0598 - acc: 0.6272 - val_loss: 1.1425 - val_acc: 0.6010\n",
      "Epoch 3/3\n",
      "45000/45000 [==============================] - 575s 13ms/step - loss: 1.0407 - acc: 0.6333 - val_loss: 1.1344 - val_acc: 0.5976\n",
      "Elapsed time:  1892.6706521511078\n"
     ]
    }
   ],
   "source": [
    "#uses one hot encoding on the labels\n",
    "y_train_encoded = to_categorical(y_train)\n",
    "y_validation_encoded = to_categorical(y_validation)\n",
    "y_test_encoded = to_categorical(y_test)\n",
    "\n",
    "\n",
    "batch_size = 32 #this is the default by the way\n",
    "epochs = 3\n",
    "tic = time.time()\n",
    "history = model.fit(x_train, y_train_encoded,\n",
    "          batch_size=batch_size,\n",
    "          epochs=epochs,\n",
    "          verbose=1, \n",
    "          validation_data = (x_validation, y_validation_encoded)\n",
    "          )\n",
    "toc = time.time()\n",
    "elapsed_time = toc - tic\n",
    "print(\"Elapsed time: \", elapsed_time)"
   ]
  },
  {
   "cell_type": "markdown",
   "metadata": {},
   "source": [
    "## Visualizing the Results\n",
    "1. Plot the accuracy per epoch\n",
    "2. Plot the cost function per epoch"
   ]
  },
  {
   "cell_type": "code",
   "execution_count": 24,
   "metadata": {},
   "outputs": [
    {
     "name": "stdout",
     "output_type": "stream",
     "text": [
      "dict_keys(['loss', 'val_acc', 'acc', 'val_loss'])\n"
     ]
    },
    {
     "data": {
      "image/png": "[encoded data removed]",
      "text/plain": [
       "<Figure size 432x288 with 1 Axes>"
      ]
     },
     "metadata": {},
     "output_type": "display_data"
    },
    {
     "data": {
      "image/png": "[encoded data removed]",
      "text/plain": [
       "<Figure size 432x288 with 1 Axes>"
      ]
     },
     "metadata": {},
     "output_type": "display_data"
    }
   ],
   "source": [
    "# list all data in history\n",
    "print(history.history.keys())\n",
    "# summarize history for accuracy\n",
    "plt.plot(history.history['acc'])\n",
    "plt.plot(history.history['val_acc'])\n",
    "plt.title('model accuracy')\n",
    "plt.ylabel('accuracy')\n",
    "plt.xlabel('epoch')\n",
    "plt.legend(['train', 'validation'], loc='upper left')\n",
    "plt.show()\n",
    "# summarize history for loss\n",
    "plt.plot(history.history['loss'])\n",
    "plt.plot(history.history['val_loss'])\n",
    "plt.title('model loss')\n",
    "plt.ylabel('loss')\n",
    "plt.xlabel('epoch')\n",
    "plt.legend(['train', 'validation'], loc='upper left')\n",
    "plt.show()"
   ]
  },
  {
   "cell_type": "markdown",
   "metadata": {},
   "source": [
    "## Loading and evaluating weights and model from the disk"
   ]
  },
  {
   "cell_type": "code",
   "execution_count": null,
   "metadata": {},
   "outputs": [],
   "source": [
    "def load_model(model_name):\n",
    "    \"\"\"\n",
    "    Arguments: a tring model_name\n",
    "    Load the model and the wights, returns a loaded model\n",
    "    \"\"\"\n",
    "    # load json and create model\n",
    "    json_file = open(model_name + '.json', 'r')\n",
    "    loaded_model_json = json_file.read()\n",
    "    json_file.close()\n",
    "    loaded_model = model_from_json(loaded_model_json)\n",
    "    # load weights into new model\n",
    "    loaded_model.load_weights(model_name \".h5\")\n",
    "    print(\"Loaded model from disk\")\n",
    "    return loaded_model\n",
    "\n",
    "# #EVALUATE MODEL\n",
    "# # evaluate loaded model on test data\n",
    "# lr = 0.00000005\n",
    "# optimizer = keras.optimizers.Nadam(lr=lr, beta_1=0.9, beta_2=0.999, epsilon=None, schedule_decay=0.004)\n",
    "# loaded_model.compile(loss=keras.losses.categorical_crossentropy,\n",
    "#               optimizer= optimizer,\n",
    "#               metrics=['accuracy'])\n",
    "# score = loaded_model.evaluate(x_test, y_test_encoded, verbose=0)\n",
    "# print(\"%s: %.2f%%\" % (loaded_model.metrics_names[1], score[1]*100))"
   ]
  },
  {
   "cell_type": "code",
   "execution_count": 25,
   "metadata": {},
   "outputs": [
    {
     "ename": "KeyboardInterrupt",
     "evalue": "",
     "output_type": "error",
     "traceback": [
      "\u001b[0;31m--------------------------------------------------------------------\u001b[0m",
      "\u001b[0;31mKeyboardInterrupt\u001b[0m                  Traceback (most recent call last)",
      "\u001b[0;32m<ipython-input-25-bbe96a725541>\u001b[0m in \u001b[0;36m<module>\u001b[0;34m()\u001b[0m\n\u001b[0;32m----> 1\u001b[0;31m \u001b[0mscore\u001b[0m \u001b[0;34m=\u001b[0m \u001b[0mmodel\u001b[0m\u001b[0;34m.\u001b[0m\u001b[0mevaluate\u001b[0m\u001b[0;34m(\u001b[0m\u001b[0mx_test\u001b[0m\u001b[0;34m,\u001b[0m \u001b[0my_test_encoded\u001b[0m\u001b[0;34m,\u001b[0m \u001b[0mverbose\u001b[0m\u001b[0;34m=\u001b[0m\u001b[0;36m0\u001b[0m\u001b[0;34m)\u001b[0m\u001b[0;34m\u001b[0m\u001b[0m\n\u001b[0m\u001b[1;32m      2\u001b[0m \u001b[0;31m# Prediction time\u001b[0m\u001b[0;34m\u001b[0m\u001b[0;34m\u001b[0m\u001b[0m\n\u001b[1;32m      3\u001b[0m \u001b[0;31m#choose randomly an image from the test set\u001b[0m\u001b[0;34m\u001b[0m\u001b[0;34m\u001b[0m\u001b[0m\n\u001b[1;32m      4\u001b[0m \u001b[0mindex\u001b[0m \u001b[0;34m=\u001b[0m \u001b[0mnp\u001b[0m\u001b[0;34m.\u001b[0m\u001b[0mrandom\u001b[0m\u001b[0;34m.\u001b[0m\u001b[0mrandint\u001b[0m\u001b[0;34m(\u001b[0m\u001b[0mx_test\u001b[0m\u001b[0;34m.\u001b[0m\u001b[0mshape\u001b[0m\u001b[0;34m[\u001b[0m\u001b[0;36m0\u001b[0m\u001b[0;34m]\u001b[0m\u001b[0;34m)\u001b[0m\u001b[0;34m\u001b[0m\u001b[0m\n\u001b[1;32m      5\u001b[0m \u001b[0mx_predict\u001b[0m \u001b[0;34m=\u001b[0m \u001b[0mx_test\u001b[0m\u001b[0;34m[\u001b[0m\u001b[0mindex\u001b[0m\u001b[0;34m]\u001b[0m\u001b[0;34m\u001b[0m\u001b[0m\n",
      "\u001b[0;32m~/env/lib/python3.5/site-packages/keras/engine/training.py\u001b[0m in \u001b[0;36mevaluate\u001b[0;34m(self, x, y, batch_size, verbose, sample_weight, steps)\u001b[0m\n\u001b[1;32m   1109\u001b[0m                                          \u001b[0mbatch_size\u001b[0m\u001b[0;34m=\u001b[0m\u001b[0mbatch_size\u001b[0m\u001b[0;34m,\u001b[0m\u001b[0;34m\u001b[0m\u001b[0m\n\u001b[1;32m   1110\u001b[0m                                          \u001b[0mverbose\u001b[0m\u001b[0;34m=\u001b[0m\u001b[0mverbose\u001b[0m\u001b[0;34m,\u001b[0m\u001b[0;34m\u001b[0m\u001b[0m\n\u001b[0;32m-> 1111\u001b[0;31m                                          steps=steps)\n\u001b[0m\u001b[1;32m   1112\u001b[0m \u001b[0;34m\u001b[0m\u001b[0m\n\u001b[1;32m   1113\u001b[0m     def predict(self, x,\n",
      "\u001b[0;32m~/env/lib/python3.5/site-packages/keras/engine/training_arrays.py\u001b[0m in \u001b[0;36mtest_loop\u001b[0;34m(model, f, ins, batch_size, verbose, steps)\u001b[0m\n\u001b[1;32m    390\u001b[0m                 \u001b[0mins_batch\u001b[0m\u001b[0;34m[\u001b[0m\u001b[0mi\u001b[0m\u001b[0;34m]\u001b[0m \u001b[0;34m=\u001b[0m \u001b[0mins_batch\u001b[0m\u001b[0;34m[\u001b[0m\u001b[0mi\u001b[0m\u001b[0;34m]\u001b[0m\u001b[0;34m.\u001b[0m\u001b[0mtoarray\u001b[0m\u001b[0;34m(\u001b[0m\u001b[0;34m)\u001b[0m\u001b[0;34m\u001b[0m\u001b[0m\n\u001b[1;32m    391\u001b[0m \u001b[0;34m\u001b[0m\u001b[0m\n\u001b[0;32m--> 392\u001b[0;31m             \u001b[0mbatch_outs\u001b[0m \u001b[0;34m=\u001b[0m \u001b[0mf\u001b[0m\u001b[0;34m(\u001b[0m\u001b[0mins_batch\u001b[0m\u001b[0;34m)\u001b[0m\u001b[0;34m\u001b[0m\u001b[0m\n\u001b[0m\u001b[1;32m    393\u001b[0m             \u001b[0;32mif\u001b[0m \u001b[0misinstance\u001b[0m\u001b[0;34m(\u001b[0m\u001b[0mbatch_outs\u001b[0m\u001b[0;34m,\u001b[0m \u001b[0mlist\u001b[0m\u001b[0;34m)\u001b[0m\u001b[0;34m:\u001b[0m\u001b[0;34m\u001b[0m\u001b[0m\n\u001b[1;32m    394\u001b[0m                 \u001b[0;32mif\u001b[0m \u001b[0mbatch_index\u001b[0m \u001b[0;34m==\u001b[0m \u001b[0;36m0\u001b[0m\u001b[0;34m:\u001b[0m\u001b[0;34m\u001b[0m\u001b[0m\n",
      "\u001b[0;32m~/env/lib/python3.5/site-packages/keras/backend/tensorflow_backend.py\u001b[0m in \u001b[0;36m__call__\u001b[0;34m(self, inputs)\u001b[0m\n\u001b[1;32m   2664\u001b[0m                 \u001b[0;32mreturn\u001b[0m \u001b[0mself\u001b[0m\u001b[0;34m.\u001b[0m\u001b[0m_legacy_call\u001b[0m\u001b[0;34m(\u001b[0m\u001b[0minputs\u001b[0m\u001b[0;34m)\u001b[0m\u001b[0;34m\u001b[0m\u001b[0m\n\u001b[1;32m   2665\u001b[0m \u001b[0;34m\u001b[0m\u001b[0m\n\u001b[0;32m-> 2666\u001b[0;31m             \u001b[0;32mreturn\u001b[0m \u001b[0mself\u001b[0m\u001b[0;34m.\u001b[0m\u001b[0m_call\u001b[0m\u001b[0;34m(\u001b[0m\u001b[0minputs\u001b[0m\u001b[0;34m)\u001b[0m\u001b[0;34m\u001b[0m\u001b[0m\n\u001b[0m\u001b[1;32m   2667\u001b[0m         \u001b[0;32melse\u001b[0m\u001b[0;34m:\u001b[0m\u001b[0;34m\u001b[0m\u001b[0m\n\u001b[1;32m   2668\u001b[0m             \u001b[0;32mif\u001b[0m \u001b[0mpy_any\u001b[0m\u001b[0;34m(\u001b[0m\u001b[0mis_tensor\u001b[0m\u001b[0;34m(\u001b[0m\u001b[0mx\u001b[0m\u001b[0;34m)\u001b[0m \u001b[0;32mfor\u001b[0m \u001b[0mx\u001b[0m \u001b[0;32min\u001b[0m \u001b[0minputs\u001b[0m\u001b[0;34m)\u001b[0m\u001b[0;34m:\u001b[0m\u001b[0;34m\u001b[0m\u001b[0m\n",
      "\u001b[0;32m~/env/lib/python3.5/site-packages/keras/backend/tensorflow_backend.py\u001b[0m in \u001b[0;36m_call\u001b[0;34m(self, inputs)\u001b[0m\n\u001b[1;32m   2634\u001b[0m                                 \u001b[0msymbol_vals\u001b[0m\u001b[0;34m,\u001b[0m\u001b[0;34m\u001b[0m\u001b[0m\n\u001b[1;32m   2635\u001b[0m                                 session)\n\u001b[0;32m-> 2636\u001b[0;31m         \u001b[0mfetched\u001b[0m \u001b[0;34m=\u001b[0m \u001b[0mself\u001b[0m\u001b[0;34m.\u001b[0m\u001b[0m_callable_fn\u001b[0m\u001b[0;34m(\u001b[0m\u001b[0;34m*\u001b[0m\u001b[0marray_vals\u001b[0m\u001b[0;34m)\u001b[0m\u001b[0;34m\u001b[0m\u001b[0m\n\u001b[0m\u001b[1;32m   2637\u001b[0m         \u001b[0;32mreturn\u001b[0m \u001b[0mfetched\u001b[0m\u001b[0;34m[\u001b[0m\u001b[0;34m:\u001b[0m\u001b[0mlen\u001b[0m\u001b[0;34m(\u001b[0m\u001b[0mself\u001b[0m\u001b[0;34m.\u001b[0m\u001b[0moutputs\u001b[0m\u001b[0;34m)\u001b[0m\u001b[0;34m]\u001b[0m\u001b[0;34m\u001b[0m\u001b[0m\n\u001b[1;32m   2638\u001b[0m \u001b[0;34m\u001b[0m\u001b[0m\n",
      "\u001b[0;32m~/env/lib/python3.5/site-packages/tensorflow/python/client/session.py\u001b[0m in \u001b[0;36m__call__\u001b[0;34m(self, *args, **kwargs)\u001b[0m\n\u001b[1;32m   1380\u001b[0m           ret = tf_session.TF_SessionRunCallable(\n\u001b[1;32m   1381\u001b[0m               \u001b[0mself\u001b[0m\u001b[0;34m.\u001b[0m\u001b[0m_session\u001b[0m\u001b[0;34m.\u001b[0m\u001b[0m_session\u001b[0m\u001b[0;34m,\u001b[0m \u001b[0mself\u001b[0m\u001b[0;34m.\u001b[0m\u001b[0m_handle\u001b[0m\u001b[0;34m,\u001b[0m \u001b[0margs\u001b[0m\u001b[0;34m,\u001b[0m \u001b[0mstatus\u001b[0m\u001b[0;34m,\u001b[0m\u001b[0;34m\u001b[0m\u001b[0m\n\u001b[0;32m-> 1382\u001b[0;31m               run_metadata_ptr)\n\u001b[0m\u001b[1;32m   1383\u001b[0m         \u001b[0;32mif\u001b[0m \u001b[0mrun_metadata\u001b[0m\u001b[0;34m:\u001b[0m\u001b[0;34m\u001b[0m\u001b[0m\n\u001b[1;32m   1384\u001b[0m           \u001b[0mproto_data\u001b[0m \u001b[0;34m=\u001b[0m \u001b[0mtf_session\u001b[0m\u001b[0;34m.\u001b[0m\u001b[0mTF_GetBuffer\u001b[0m\u001b[0;34m(\u001b[0m\u001b[0mrun_metadata_ptr\u001b[0m\u001b[0;34m)\u001b[0m\u001b[0;34m\u001b[0m\u001b[0m\n",
      "\u001b[0;31mKeyboardInterrupt\u001b[0m: "
     ]
    }
   ],
   "source": [
    "score = model.evaluate(x_test, y_test_encoded, verbose=0)\n",
    "# Prediction time\n",
    "#choose randomly an image from the test set\n",
    "index = np.random.randint(x_test.shape[0])\n",
    "x_predict = x_test[index]\n",
    "x_shape = x_predict.shape\n",
    "\n",
    "#makes the 3d volume become 4d\n",
    "x_predict = x_predict.reshape((1, x_predict.shape[0], x_predict.shape[1], x_predict.shape[2]))\n",
    "y_predict = model.predict_classes(x_predict)\n",
    "y_predict = int(y_predict.reshape(1))\n",
    "print(\"The prediction: \", y_predict, classes[y_predict])\n",
    "print( \"The label: \", y_test[index], classes[int(y_test[index])])\n",
    "plt.imshow(X_predict.reshape(x_shape))\n",
    "\n"
   ]
  },
  {
   "cell_type": "markdown",
   "metadata": {},
   "source": [
    "## Saving model and weights to disk\n",
    "\n",
    "Tutorial to save the model and the weights to disk.\n",
    "https://machinelearningmastery.com/save-load-keras-deep-learning-models/"
   ]
  },
  {
   "cell_type": "code",
   "execution_count": 21,
   "metadata": {},
   "outputs": [],
   "source": [
    "def serialize_model(model, model_name):\n",
    "    \"\"\"\n",
    "    Arguments: \n",
    "    model: the model we sused to train\n",
    "    model_name - string that\n",
    "    Saves the model in a file .json and the weights in a .h5 file\n",
    "    \"\"\"\n",
    "    model_json = model_name + \".json\"\n",
    "    model_h5 = model_name + \".h5\"\n",
    "    # serialize model to JSON\n",
    "    model_json = model.to_json()\n",
    "    with open(model_name + \".json\", \"w\") as json_file:\n",
    "        json_file.write(model_json)\n",
    "    # serialize weights to HDF5\n",
    "    model.save_weights(model_name + \".h5\")\n",
    "    print(\"Saved model to disk\")"
   ]
  },
  {
   "cell_type": "code",
   "execution_count": 26,
   "metadata": {},
   "outputs": [
    {
     "name": "stdout",
     "output_type": "stream",
     "text": [
      "Saved model to disk\n"
     ]
    }
   ],
   "source": [
    "serialize_model(model, \"super_cool_model\")"
   ]
  },
  {
   "cell_type": "markdown",
   "metadata": {},
   "source": [
    "## References:\n",
    "http://adventuresinmachinelearning.com/keras-tutorial-cnn-11-lines/\n",
    "https://machinelearningmastery.com/tutorial-first-neural-network-python-keras/\n",
    "https://machinelearningmastery.com/how-to-one-hot-encode-sequence-data-in-python/\n",
    "\n",
    "Initialize parameters:\n",
    "https://keras.io/optimizers/\n",
    "\n",
    "Optimizers:\n",
    "https://keras.io/optimizers/\n",
    "\n",
    "Counting time:  \n",
    "https://stackoverflow.com/questions/3620943/measuring-elapsed-time-with-the-time-module\n",
    "\n",
    "Visualizing the data:  \n",
    "https://machinelearningmastery.com/display-deep-learning-model-training-history-in-keras/\n",
    "\n",
    "Making predictions:\n",
    "https://machinelearningmastery.com/how-to-make-classification-and-regression-predictions-for-deep-learning-models-in-keras/"
   ]
  },
  {
   "cell_type": "markdown",
   "metadata": {},
   "source": [
    "## Problems:\n",
    "**In exp02**:\n",
    "Add he-inititializer, use the training set with 45000 examples and the validation set with 5000.\n",
    "Why change: I think the model is falling at breaking symetry. (it didn't break symetry)\n",
    "\n",
    "**In exp03**:\n",
    "keras.optimizers.Nadam(lr=0.002, beta_1=0.9, beta_2=0.999, epsilon=None, schedule_decay=0.004.The cost does not get lower on epochs. Possilble problem, gradient vanishing. Solution: ResNet?\n",
    "**In exp04**: increase number of neurons in the FC layer.\n"
   ]
  },
  {
   "cell_type": "code",
   "execution_count": null,
   "metadata": {},
   "outputs": [],
   "source": []
  },
  {
   "cell_type": "code",
   "execution_count": null,
   "metadata": {},
   "outputs": [],
   "source": []
  }
 ],
 "metadata": {
  "kernelspec": {
   "display_name": "Python 3",
   "language": "python",
   "name": "python3"
  },
  "language_info": {
   "codemirror_mode": {
    "name": "ipython",
    "version": 3
   },
   "file_extension": ".py",
   "mimetype": "text/x-python",
   "name": "python",
   "nbconvert_exporter": "python",
   "pygments_lexer": "ipython3",
   "version": "3.5.2"
  },
  "widgets": {
   "application/vnd.jupyter.widget-state+json": {
    "state": {},
    "version_major": 2,
    "version_minor": 0
   }
  }
 },
 "nbformat": 4,
 "nbformat_minor": 2
}
