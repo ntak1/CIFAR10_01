{
 "cells": [
  {
   "cell_type": "markdown",
   "metadata": {},
   "source": [
    "# Introduction to Convolutional Neural Networks with Keras \n",
    "\n",
    "### The data set used: CIFAR10\n",
    "https://www.cs.toronto.edu/~kriz/cifar.html"
   ]
  },
  {
   "cell_type": "code",
   "execution_count": 27,
   "metadata": {
    "scrolled": true
   },
   "outputs": [],
   "source": [
    "import numpy as np\n",
    "import matplotlib.pyplot as plt\n",
    "from keras.models import Sequential\n",
    "from keras.layers import Input, Dense, MaxPooling2D, Flatten, Conv2D, ZeroPadding2D, BatchNormalization, Activation\n",
    "from keras.datasets import cifar10\n",
    "from keras import optimizers, losses\n",
    "from keras.models import Model\n",
    "import keras.utils\n",
    "from keras.utils import to_categorical\n",
    "from keras import utils as np_utils\n",
    "from keras.models import model_from_json\n",
    "import time\n",
    "%matplotlib inline"
   ]
  },
  {
   "cell_type": "code",
   "execution_count": 28,
   "metadata": {},
   "outputs": [],
   "source": [
    "#load the data, we won't use now the test set\n",
    "(x_train, y_train), ( x_test , y_test) = cifar10.load_data() #the _ indicates we don't want that value"
   ]
  },
  {
   "cell_type": "markdown",
   "metadata": {},
   "source": [
    "## Understanding the data_set\n",
    "The training set has 50000 images RGB each of shape 32x32x3 (x_train) and 5000 labels (y_train). \n",
    "The test set has 1000 images with the same especifications.\n",
    "0. airplane \t\t\t\t\t\t\t\t\t\t\n",
    "1. automobile \t\t\t\t\t\t\t\t\t\t\n",
    "2. bird \t\t\t\t\t\t\t\t\t\t\n",
    "3. cat \t\t\t\t\t\t\t\t\t\t\n",
    "4. deer \t\t\t\t\t\t\t\t\t\t\n",
    "5. dog \t\t\t\t\t\t\t\t\t\t\n",
    "6. frog \t\t\t\t\t\t\t\t\t\t\n",
    "7. horse \t\t\t\t\t\t\t\t\t\t\n",
    "8. ship \t\t\t\t\t\t\t\t\t\t\n",
    "9. truck \t\t\t\t\t\t\t\t\t\t\n",
    " "
   ]
  },
  {
   "cell_type": "code",
   "execution_count": 29,
   "metadata": {},
   "outputs": [],
   "source": [
    "#Dividing the training set into test set and validation set\n",
    "x_validation = x_train[45000:50000]\n",
    "y_validation = y_train[45000: 50000]\n",
    "x_train = x_train[0:45000]\n",
    "y_train = y_train[0: 45000]"
   ]
  },
  {
   "cell_type": "code",
   "execution_count": 30,
   "metadata": {},
   "outputs": [
    {
     "name": "stdout",
     "output_type": "stream",
     "text": [
      "label:  [9] truck\n",
      "x_train.shape =  (45000, 32, 32, 3)\n",
      "y_train.shape =  (45000, 1)\n",
      "x_validation.shape =  (5000, 32, 32, 3)\n",
      "y_validation.shape =  (5000, 1)\n",
      "x_test.shape =  (10000, 32, 32, 3)\n",
      "y_test.shape =  (10000, 1)\n",
      "number of classes:  10\n"
     ]
    },
    {
     "data": {
      "image/png": "[encoded data removed]",
      "text/plain": [
       "<Figure size 432x288 with 1 Axes>"
      ]
     },
     "metadata": {},
     "output_type": "display_data"
    }
   ],
   "source": [
    "#Extracting sizes\n",
    "m = x_train.shape[0]\n",
    "width =  x_train.shape[2] #the width is the number of columns\n",
    "height = x_train.shape[1] #the height is the number of lines\n",
    "n_C = x_train.shape[3]\n",
    "\n",
    "#View the data\n",
    "classes = [\"airplane\", \"automobile\", \"bird\", \"cat\", \"deer\", \"dog\", \"frog\", \"horse\", \"ship\", \"truck\"]\n",
    "index = np.random.randint(m)\n",
    "img = x_train[index]\n",
    "print(\"label: \", y_train[index], classes[int(y_train[index])])\n",
    "imgplot = plt.imshow(img)\n",
    "\n",
    "print (\"x_train.shape = \", x_train.shape)\n",
    "print(\"y_train.shape = \", y_train.shape)\n",
    "print(\"x_validation.shape = \", x_validation.shape)\n",
    "print(\"y_validation.shape = \", y_validation.shape)\n",
    "print(\"x_test.shape = \", x_test.shape)\n",
    "print(\"y_test.shape = \", y_test.shape)\n",
    "print(\"number of classes: \", np.max(y_train) + 1)"
   ]
  },
  {
   "cell_type": "markdown",
   "metadata": {},
   "source": [
    "## Conv2D\n",
    "**keras.layers.Conv2D(filters, kernel_size, strides=(1, 1), padding='valid', data_format=None, dilation_rate=(1, 1), activation=None, use_bias=True, kernel_initializer='glorot_uniform', bias_initializer='zeros', kernel_regularizer=None, bias_regularizer=None, activity_regularizer=None, kernel_constraint=None, bias_constraint=None)**  \n",
    "2D convolution layer (e.g. spatial convolution over images).\n",
    "\n",
    "This layer creates a convolution kernel that is convolved with the layer input to produce a tensor of outputs. If use_bias is True, a bias vector is created and added to the outputs. Finally, if activation is not None, it is applied to the outputs as well.\n",
    "\n",
    "When using this layer as the first layer in a model, provide the keyword argument input_shape (tuple of integers, does not include the sample axis), e.g. input_shape=(128, 128, 3) for 128x128 RGB pictures in data_format=\"channels_last\".\n",
    "\n",
    "\n",
    "* filters: Integer, the dimensionality of the output space (i.e. the number of output filters in the convolution).\n",
    "* kernel_size: An integer or tuple/list of 2 integers, specifying the height and width of the 2D convolution window. Can be a single integer to specify the same value for all spatial dimensions.\n",
    "* strides: An integer or tuple/list of 2 integers, specifying the strides of the convolution along the height and width. Can be a single integer to specify the same value for all spatial dimensions. Specifying any stride value != 1 is incompatible with specifying any dilation_rate value != 1.\n",
    "* padding: one of \"valid\" or \"same\" (case-insensitive).\n",
    "    \n",
    "https://keras.io/layers/convolutional/\n",
    "\n",
    "## My ConvModel\n",
    "input => 16 filters of 3x3 stride 1, no padding => 1 POOL layer 2x2 stride 2 => 8 filters 5x5x16 stride 2 = Flatten =>\n",
    "volume.reshape(volume.shape[0], -1).T => FC 20 nodes => softmax() with 10 outputs. \n",
    "Some things to look carefully:"
   ]
  },
  {
   "cell_type": "code",
   "execution_count": 31,
   "metadata": {},
   "outputs": [],
   "source": [
    "def first_model(): \n",
    "    model = Sequential()\n",
    "    #layer 1\n",
    "    initializer = keras.initializers.he_normal(1)\n",
    "    model.add(Conv2D(16, 3, strides = 1, input_shape = x_train[0].shape,\n",
    "                     padding = 'valid', activation = 'relu', kernel_initializer = initializer))\n",
    "    #layer 2\n",
    "    model.add(MaxPooling2D(pool_size=(4, 4), strides=(2, 2)))\n",
    "    #layer 3\n",
    "    model.add(Conv2D(32, (5, 5), activation='relu', kernel_initializer = initializer))\n",
    "    model.add(Flatten())\n",
    "    #layer 4\n",
    "    model.add(Dense(30, activation='relu'))\n",
    "    model.add(Dense(num_classes, activation='softmax'))\n",
    "    return model"
   ]
  },
  {
   "cell_type": "code",
   "execution_count": 32,
   "metadata": {},
   "outputs": [],
   "source": [
    "#PAD (3,3) -> CONV2D (7X7,32) -> BN -> RELU -> MAXPOOL (2,2) ->FLATTEN\n",
    "#->SIGMOID\n",
    "def HappyModel(input_shape):\n",
    "    \"\"\"\n",
    "    Implementation of the HappyModel.\n",
    "    \n",
    "    Arguments:\n",
    "    input_shape -- shape of the images of the dataset\n",
    "\n",
    "    Returns:\n",
    "    model -- a Model() instance in Keras\n",
    "    \"\"\"\n",
    "    \n",
    "    #LET'S TRY THE EASY\n",
    "    #Define the input\n",
    "    X_input = Input(input_shape)\n",
    "    \n",
    "    #Zero-padding: pads the border of X_input with zeros\n",
    "    X = ZeroPadding2D((3,3))(X_input)\n",
    "    \n",
    "    #CONV2D: uses 32 filters 7x7\n",
    "    X = Conv2D(32,(7,7), strides = (1,1), name = 'conv0')(X)\n",
    "    #BN\n",
    "    X = BatchNormalization(axis = 3, name = 'bn0')(X)\n",
    "    #RELU\n",
    "    X = Activation('relu')(X)\n",
    "    #MAXPOOL\n",
    "    X = MaxPooling2D((2,2), name = 'max_pool')(X)\n",
    "    \n",
    "    #FLATTEN X (CONVERT TO VECTOR) -> fully connected layer\n",
    "    X = Flatten()(X)\n",
    "    X = Dense(10, activation='softmax', name ='fc')(X)\n",
    "    \n",
    "    #creates the model\n",
    "    model = Model(inputs = X_input, outputs = X, name = 'HappyModel')\n",
    "    ### END CODE HERE ###\n",
    "    \n",
    "    return model"
   ]
  },
  {
   "cell_type": "markdown",
   "metadata": {},
   "source": [
    "## Compiling\n",
    "Used Adam optimizer. Too see other [possibilities](https://keras.io/optimizers/)"
   ]
  },
  {
   "cell_type": "code",
   "execution_count": 33,
   "metadata": {},
   "outputs": [],
   "source": [
    "#learning rate\n",
    "lr = 0.00001\n",
    "model = HappyModel((32,32,3))\n",
    "optimizer = keras.optimizers.Nadam(lr=lr, beta_1=0.9, beta_2=0.999, epsilon=None, schedule_decay=0.004)\n",
    "model.compile(loss=keras.losses.categorical_crossentropy,\n",
    "              optimizer= optimizer,\n",
    "              metrics=['accuracy'])\n"
   ]
  },
  {
   "cell_type": "markdown",
   "metadata": {},
   "source": [
    "## Use one hot enconding\n",
    "Why use one hor enconding?\n",
    "The categorical varibles representation become more expressive.  \n",
    "See the refference to implementations in some frameworks.\n",
    "https://machinelearningmastery.com/how-to-one-hot-encode-sequence-data-in-python/\n",
    "\n",
    "## Traning model:"
   ]
  },
  {
   "cell_type": "code",
   "execution_count": 34,
   "metadata": {},
   "outputs": [
    {
     "name": "stdout",
     "output_type": "stream",
     "text": [
      "Epoch 1/10\n",
      "45000/45000 [==============================] - 78s 2ms/step - loss: 1.9974 - acc: 0.2883\n",
      "Epoch 2/10\n",
      "45000/45000 [==============================] - 75s 2ms/step - loss: 1.7081 - acc: 0.3994\n",
      "Epoch 3/10\n",
      "45000/45000 [==============================] - 77s 2ms/step - loss: 1.6057 - acc: 0.4400\n",
      "Epoch 4/10\n",
      "45000/45000 [==============================] - 78s 2ms/step - loss: 1.5392 - acc: 0.4639\n",
      "Epoch 5/10\n",
      "45000/45000 [==============================] - 78s 2ms/step - loss: 1.4877 - acc: 0.4831\n",
      "Epoch 6/10\n",
      "45000/45000 [==============================] - 80s 2ms/step - loss: 1.4465 - acc: 0.4963\n",
      "Epoch 7/10\n",
      "45000/45000 [==============================] - 78s 2ms/step - loss: 1.4111 - acc: 0.5119\n",
      "Epoch 8/10\n",
      "45000/45000 [==============================] - 79s 2ms/step - loss: 1.3786 - acc: 0.5228\n",
      "Epoch 9/10\n",
      "45000/45000 [==============================] - 79s 2ms/step - loss: 1.3481 - acc: 0.5327\n",
      "Epoch 10/10\n",
      "45000/45000 [==============================] - 79s 2ms/step - loss: 1.3221 - acc: 0.5443\n",
      "Elapsed time:  781.9509279727936\n"
     ]
    }
   ],
   "source": [
    "#uses one hot encoding on the labels\n",
    "y_train_encoded = to_categorical(y_train)\n",
    "y_validation_encoded = to_categorical(y_validation)\n",
    "y_test_encoded = to_categorical(y_test)\n",
    "\n",
    "\n",
    "batch_size = 32 #this is the default by the way\n",
    "epochs = 10\n",
    "tic = time.time()\n",
    "history = model.fit(x_train, y_train_encoded,\n",
    "          batch_size=batch_size,\n",
    "          epochs=epochs,\n",
    "          verbose=1,\n",
    "          )\n",
    "toc = time.time()\n",
    "elapsed_time = toc - tic\n",
    "print(\"Elapsed time: \", elapsed_time)"
   ]
  },
  {
   "cell_type": "markdown",
   "metadata": {},
   "source": [
    "## Visualizing the Results\n",
    "1. Plot the accuracy per epoch\n",
    "2. Plot the cost function per epoch"
   ]
  },
  {
   "cell_type": "code",
   "execution_count": 36,
   "metadata": {},
   "outputs": [
    {
     "name": "stdout",
     "output_type": "stream",
     "text": [
      "dict_keys(['loss', 'acc'])\n"
     ]
    },
    {
     "ename": "KeyError",
     "evalue": "'val_acc'",
     "output_type": "error",
     "traceback": [
      "\u001b[0;31m---------------------------------------------------------------------------\u001b[0m",
      "\u001b[0;31mKeyError\u001b[0m                                  Traceback (most recent call last)",
      "\u001b[0;32m<ipython-input-36-fa646afcb66c>\u001b[0m in \u001b[0;36m<module>\u001b[0;34m()\u001b[0m\n\u001b[1;32m      3\u001b[0m \u001b[0;31m# summarize history for accuracy\u001b[0m\u001b[0;34m\u001b[0m\u001b[0;34m\u001b[0m\u001b[0m\n\u001b[1;32m      4\u001b[0m \u001b[0mplt\u001b[0m\u001b[0;34m.\u001b[0m\u001b[0mplot\u001b[0m\u001b[0;34m(\u001b[0m\u001b[0mhistory\u001b[0m\u001b[0;34m.\u001b[0m\u001b[0mhistory\u001b[0m\u001b[0;34m[\u001b[0m\u001b[0;34m'acc'\u001b[0m\u001b[0;34m]\u001b[0m\u001b[0;34m)\u001b[0m\u001b[0;34m\u001b[0m\u001b[0m\n\u001b[0;32m----> 5\u001b[0;31m \u001b[0mplt\u001b[0m\u001b[0;34m.\u001b[0m\u001b[0mplot\u001b[0m\u001b[0;34m(\u001b[0m\u001b[0mhistory\u001b[0m\u001b[0;34m.\u001b[0m\u001b[0mhistory\u001b[0m\u001b[0;34m[\u001b[0m\u001b[0;34m'val_acc'\u001b[0m\u001b[0;34m]\u001b[0m\u001b[0;34m)\u001b[0m\u001b[0;34m\u001b[0m\u001b[0m\n\u001b[0m\u001b[1;32m      6\u001b[0m \u001b[0mplt\u001b[0m\u001b[0;34m.\u001b[0m\u001b[0mtitle\u001b[0m\u001b[0;34m(\u001b[0m\u001b[0;34m'model accuracy'\u001b[0m\u001b[0;34m)\u001b[0m\u001b[0;34m\u001b[0m\u001b[0m\n\u001b[1;32m      7\u001b[0m \u001b[0mplt\u001b[0m\u001b[0;34m.\u001b[0m\u001b[0mylabel\u001b[0m\u001b[0;34m(\u001b[0m\u001b[0;34m'accuracy'\u001b[0m\u001b[0;34m)\u001b[0m\u001b[0;34m\u001b[0m\u001b[0m\n",
      "\u001b[0;31mKeyError\u001b[0m: 'val_acc'"
     ]
    },
    {
     "data": {
      "image/png": "[encoded data removed]",
      "text/plain": [
       "<Figure size 432x288 with 1 Axes>"
      ]
     },
     "metadata": {},
     "output_type": "display_data"
    }
   ],
   "source": [
    "# list all data in history\n",
    "print(history.history.keys())\n",
    "# summarize history for accuracy\n",
    "plt.plot(history.history['acc'])\n",
    "plt.plot(history.history['val_acc'])\n",
    "plt.title('model accuracy')\n",
    "plt.ylabel('accuracy')\n",
    "plt.xlabel('epoch')\n",
    "plt.legend(['train', 'test'], loc='upper left')\n",
    "plt.show()\n",
    "# summarize history for loss\n",
    "plt.plot(history.history['loss'])\n",
    "plt.plot(history.history['val_loss'])\n",
    "plt.title('model loss')\n",
    "plt.ylabel('loss')\n",
    "plt.xlabel('epoch')\n",
    "plt.legend(['train', 'test'], loc='upper left')\n",
    "plt.show()"
   ]
  },
  {
   "cell_type": "markdown",
   "metadata": {},
   "source": [
    "## Loading and evaluating weights and model from the disk"
   ]
  },
  {
   "cell_type": "code",
   "execution_count": null,
   "metadata": {},
   "outputs": [],
   "source": [
    "def load_model(model_name):\n",
    "    # load json and create model\n",
    "    json_file = open(model_name + '.json', 'r')\n",
    "    loaded_model_json = json_file.read()\n",
    "    json_file.close()\n",
    "    loaded_model = model_from_json(loaded_model_json)\n",
    "    # load weights into new model\n",
    "    loaded_model.load_weights(model_name \".h5\")\n",
    "    print(\"Loaded model from disk\")\n",
    "    return loaded_model\n",
    "\n",
    "# #EVALUATE MODEL\n",
    "# # evaluate loaded model on test data\n",
    "# lr = 0.00000005\n",
    "# optimizer = keras.optimizers.Nadam(lr=lr, beta_1=0.9, beta_2=0.999, epsilon=None, schedule_decay=0.004)\n",
    "# loaded_model.compile(loss=keras.losses.categorical_crossentropy,\n",
    "#               optimizer= optimizer,\n",
    "#               metrics=['accuracy'])\n",
    "# score = loaded_model.evaluate(x_test, y_test_encoded, verbose=0)\n",
    "# print(\"%s: %.2f%%\" % (loaded_model.metrics_names[1], score[1]*100))"
   ]
  },
  {
   "cell_type": "code",
   "execution_count": 37,
   "metadata": {},
   "outputs": [
    {
     "ename": "AttributeError",
     "evalue": "'Model' object has no attribute 'predict_classes'",
     "output_type": "error",
     "traceback": [
      "\u001b[0;31m---------------------------------------------------------------------------\u001b[0m",
      "\u001b[0;31mAttributeError\u001b[0m                            Traceback (most recent call last)",
      "\u001b[0;32m<ipython-input-37-4226c8a8cb85>\u001b[0m in \u001b[0;36m<module>\u001b[0;34m()\u001b[0m\n\u001b[1;32m      5\u001b[0m \u001b[0mx_shape\u001b[0m \u001b[0;34m=\u001b[0m \u001b[0mX_predict\u001b[0m\u001b[0;34m.\u001b[0m\u001b[0mshape\u001b[0m\u001b[0;34m\u001b[0m\u001b[0m\n\u001b[1;32m      6\u001b[0m \u001b[0mX_predict\u001b[0m \u001b[0;34m=\u001b[0m \u001b[0mX_predict\u001b[0m\u001b[0;34m.\u001b[0m\u001b[0mreshape\u001b[0m\u001b[0;34m(\u001b[0m\u001b[0;34m(\u001b[0m\u001b[0;36m1\u001b[0m\u001b[0;34m,\u001b[0m \u001b[0mX_predict\u001b[0m\u001b[0;34m.\u001b[0m\u001b[0mshape\u001b[0m\u001b[0;34m[\u001b[0m\u001b[0;36m0\u001b[0m\u001b[0;34m]\u001b[0m\u001b[0;34m,\u001b[0m \u001b[0mX_predict\u001b[0m\u001b[0;34m.\u001b[0m\u001b[0mshape\u001b[0m\u001b[0;34m[\u001b[0m\u001b[0;36m1\u001b[0m\u001b[0;34m]\u001b[0m\u001b[0;34m,\u001b[0m \u001b[0mX_predict\u001b[0m\u001b[0;34m.\u001b[0m\u001b[0mshape\u001b[0m\u001b[0;34m[\u001b[0m\u001b[0;36m2\u001b[0m\u001b[0;34m]\u001b[0m\u001b[0;34m)\u001b[0m\u001b[0;34m)\u001b[0m\u001b[0;34m\u001b[0m\u001b[0m\n\u001b[0;32m----> 7\u001b[0;31m \u001b[0my_predict\u001b[0m \u001b[0;34m=\u001b[0m \u001b[0mmodel\u001b[0m\u001b[0;34m.\u001b[0m\u001b[0mpredict_classes\u001b[0m\u001b[0;34m(\u001b[0m\u001b[0mX_predict\u001b[0m\u001b[0;34m)\u001b[0m\u001b[0;34m\u001b[0m\u001b[0m\n\u001b[0m\u001b[1;32m      8\u001b[0m \u001b[0my_predict\u001b[0m \u001b[0;34m=\u001b[0m \u001b[0mint\u001b[0m\u001b[0;34m(\u001b[0m\u001b[0my_predict\u001b[0m\u001b[0;34m.\u001b[0m\u001b[0mreshape\u001b[0m\u001b[0;34m(\u001b[0m\u001b[0;36m1\u001b[0m\u001b[0;34m)\u001b[0m\u001b[0;34m)\u001b[0m\u001b[0;34m\u001b[0m\u001b[0m\n\u001b[1;32m      9\u001b[0m \u001b[0mprint\u001b[0m\u001b[0;34m(\u001b[0m\u001b[0;34m\"The prediction: \"\u001b[0m\u001b[0;34m,\u001b[0m \u001b[0my_predict\u001b[0m\u001b[0;34m,\u001b[0m \u001b[0mclasses\u001b[0m\u001b[0;34m[\u001b[0m\u001b[0my_predict\u001b[0m\u001b[0;34m]\u001b[0m\u001b[0;34m)\u001b[0m\u001b[0;34m\u001b[0m\u001b[0m\n",
      "\u001b[0;31mAttributeError\u001b[0m: 'Model' object has no attribute 'predict_classes'"
     ]
    }
   ],
   "source": [
    "score = model.evaluate(x_test, y_test_encoded, verbose=0)\n",
    "## Prediction time\n",
    "index = np.random.randint(x_test.shape[0])\n",
    "X_predict = x_test[index]\n",
    "x_shape = X_predict.shape\n",
    "X_predict = X_predict.reshape((1, X_predict.shape[0], X_predict.shape[1], X_predict.shape[2]))\n",
    "y_predict = model.predict_classes(X_predict)\n",
    "y_predict = int(y_predict.reshape(1))\n",
    "print(\"The prediction: \", y_predict, classes[y_predict])\n",
    "print( \"The label: \", y_test[index], classes[int(y_test[index])])\n",
    "plt.imshow(X_predict.reshape(x_shape))\n",
    "\n"
   ]
  },
  {
   "cell_type": "markdown",
   "metadata": {},
   "source": [
    "## Saving model and weights to disk\n",
    "\n",
    "Tutorial to save the model and the weights to disk.\n",
    "https://machinelearningmastery.com/save-load-keras-deep-learning-models/"
   ]
  },
  {
   "cell_type": "code",
   "execution_count": null,
   "metadata": {},
   "outputs": [],
   "source": [
    "def serialize_model(model, model_name):\n",
    "    \"\"\"\n",
    "    Arguments: model_name - Sring\n",
    "    Saves the model in a file .json and the weights in a .h5 file\n",
    "    \"\"\"\n",
    "    model_json = model_name + \".json\"\n",
    "    model_h5 = model_name + \".h5\"\n",
    "    # serialize model to JSON\n",
    "    model_json = model.to_json()\n",
    "    with open(model_name + \".json\", \"w\") as json_file:\n",
    "        json_file.write(model_json)\n",
    "    # serialize weights to HDF5\n",
    "    model.save_weights(model_name + \".h5\")\n",
    "    print(\"Saved model to disk\")"
   ]
  },
  {
   "cell_type": "code",
   "execution_count": null,
   "metadata": {},
   "outputs": [],
   "source": [
    "serialize_model(HappyModel, \"happy_model\")"
   ]
  },
  {
   "cell_type": "markdown",
   "metadata": {},
   "source": [
    "## References:\n",
    "http://adventuresinmachinelearning.com/keras-tutorial-cnn-11-lines/\n",
    "https://machinelearningmastery.com/tutorial-first-neural-network-python-keras/\n",
    "https://machinelearningmastery.com/how-to-one-hot-encode-sequence-data-in-python/\n",
    "\n",
    "Initialize parameters:\n",
    "https://keras.io/optimizers/\n",
    "\n",
    "Optimizers:\n",
    "https://keras.io/optimizers/\n",
    "\n",
    "Counting time:  \n",
    "https://stackoverflow.com/questions/3620943/measuring-elapsed-time-with-the-time-module\n",
    "\n",
    "Visualizing the data:  \n",
    "https://machinelearningmastery.com/display-deep-learning-model-training-history-in-keras/\n",
    "\n",
    "Making predictions:\n",
    "https://machinelearningmastery.com/how-to-make-classification-and-regression-predictions-for-deep-learning-models-in-keras/"
   ]
  },
  {
   "cell_type": "markdown",
   "metadata": {},
   "source": [
    "## Problems:\n",
    "**In exp02**:\n",
    "Add he-inititializer, use the training set with 45000 examples and the validation set with 5000.\n",
    "Why change: I think the model is falling at breaking symetry. (it didn't break symetry)\n",
    "\n",
    "**In exp03**:\n",
    "keras.optimizers.Nadam(lr=0.002, beta_1=0.9, beta_2=0.999, epsilon=None, schedule_decay=0.004.The cost does not get lower on epochs. Possilble problem, gradient vanishing. Solution: ResNet?\n",
    "**In exp04**: increase number of neurons in the FC layer.\n"
   ]
  },
  {
   "cell_type": "code",
   "execution_count": null,
   "metadata": {},
   "outputs": [],
   "source": []
  },
  {
   "cell_type": "code",
   "execution_count": null,
   "metadata": {},
   "outputs": [],
   "source": []
  }
 ],
 "metadata": {
  "kernelspec": {
   "display_name": "Python 3",
   "language": "python",
   "name": "python3"
  },
  "language_info": {
   "codemirror_mode": {
    "name": "ipython",
    "version": 3
   },
   "file_extension": ".py",
   "mimetype": "text/x-python",
   "name": "python",
   "nbconvert_exporter": "python",
   "pygments_lexer": "ipython3",
   "version": "3.6.6"
  },
  "widgets": {
   "application/vnd.jupyter.widget-state+json": {
    "state": {},
    "version_major": 2,
    "version_minor": 0
   }
  }
 },
 "nbformat": 4,
 "nbformat_minor": 2
}
